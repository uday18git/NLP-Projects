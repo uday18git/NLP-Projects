{
 "cells": [
  {
   "cell_type": "markdown",
   "id": "e35e1621",
   "metadata": {},
   "source": [
    "## makemore:part 5"
   ]
  },
  {
   "cell_type": "code",
   "execution_count": 32,
   "id": "c7c8fda2",
   "metadata": {},
   "outputs": [],
   "source": [
    "import torch\n",
    "import torch.nn.functional as F\n",
    "import matplotlib.pyplot as plt # for making figures\n",
    "%matplotlib inline"
   ]
  },
  {
   "cell_type": "code",
   "execution_count": 33,
   "id": "83f8596a",
   "metadata": {},
   "outputs": [
    {
     "data": {
      "text/plain": [
       "['emma', 'olivia', 'ava']"
      ]
     },
     "execution_count": 33,
     "metadata": {},
     "output_type": "execute_result"
    }
   ],
   "source": [
    "words = open('names.txt','r').read().splitlines()\n",
    "words[:3]"
   ]
  },
  {
   "cell_type": "code",
   "execution_count": 34,
   "id": "0c354da4",
   "metadata": {
    "scrolled": true
   },
   "outputs": [
    {
     "name": "stdout",
     "output_type": "stream",
     "text": [
      "{1: 'a', 2: 'b', 3: 'c', 4: 'd', 5: 'e', 6: 'f', 7: 'g', 8: 'h', 9: 'i', 10: 'j', 11: 'k', 12: 'l', 13: 'm', 14: 'n', 15: 'o', 16: 'p', 17: 'q', 18: 'r', 19: 's', 20: 't', 21: 'u', 22: 'v', 23: 'w', 24: 'x', 25: 'y', 26: 'z', 0: '.'}\n",
      "27\n"
     ]
    }
   ],
   "source": [
    "chars = sorted(list(set(''.join(words))))\n",
    "stoi = {s:i+1 for i,s in enumerate(chars)}\n",
    "stoi['.'] = 0\n",
    "itos = {i:s for s,i in stoi.items()}\n",
    "vocab_size = len(itos)\n",
    "print(itos)\n",
    "print(vocab_size)"
   ]
  },
  {
   "cell_type": "code",
   "execution_count": 35,
   "id": "a3600778",
   "metadata": {},
   "outputs": [],
   "source": [
    "#shuffle up the words\n",
    "import random\n",
    "random.seed(42)\n",
    "random.shuffle(words)"
   ]
  },
  {
   "cell_type": "code",
   "execution_count": 52,
   "id": "0b78f62a",
   "metadata": {},
   "outputs": [
    {
     "name": "stdout",
     "output_type": "stream",
     "text": [
      "torch.Size([182625, 8]) torch.Size([182625])\n",
      "torch.Size([22655, 8]) torch.Size([22655])\n",
      "torch.Size([22866, 8]) torch.Size([22866])\n"
     ]
    }
   ],
   "source": [
    "# build the dataset\n",
    "block_size = 8 # context length: how many characters do we take to predict the next one?\n",
    "\n",
    "def build_dataset(words):  \n",
    "      X, Y = [], []\n",
    "\n",
    "      for w in words:\n",
    "        context = [0] * block_size\n",
    "        for ch in w + '.':\n",
    "          ix = stoi[ch]\n",
    "          X.append(context)\n",
    "          Y.append(ix)\n",
    "          context = context[1:] + [ix] # crop and append\n",
    "\n",
    "      X = torch.tensor(X)\n",
    "      Y = torch.tensor(Y)\n",
    "      print(X.shape, Y.shape)\n",
    "      return X, Y\n",
    "\n",
    "n1 = int(0.8*len(words))\n",
    "n2 = int(0.9*len(words))\n",
    "\n",
    "Xtr,  Ytr  = build_dataset(words[:n1])     # 80%\n",
    "Xdev, Ydev = build_dataset(words[n1:n2])   # 10%\n",
    "Xte,  Yte  = build_dataset(words[n2:])     # 10%\n"
   ]
  },
  {
   "cell_type": "code",
   "execution_count": 53,
   "id": "c523a81f",
   "metadata": {
    "scrolled": true
   },
   "outputs": [
    {
     "name": "stdout",
     "output_type": "stream",
     "text": [
      "........ ---> y\n",
      ".......y ---> u\n",
      "......yu ---> h\n",
      ".....yuh ---> e\n",
      "....yuhe ---> n\n",
      "...yuhen ---> g\n",
      "..yuheng ---> .\n",
      "........ ---> d\n",
      ".......d ---> i\n",
      "......di ---> o\n",
      ".....dio ---> n\n",
      "....dion ---> d\n",
      "...diond ---> r\n",
      "..diondr ---> e\n",
      ".diondre ---> .\n",
      "........ ---> x\n",
      ".......x ---> a\n",
      "......xa ---> v\n",
      ".....xav ---> i\n",
      "....xavi ---> e\n"
     ]
    }
   ],
   "source": [
    "for x,y in zip(Xtr[:20],Ytr[:20]):\n",
    "    print(''.join(itos[ix.item()] for ix in x),'--->',itos[y.item()])"
   ]
  },
  {
   "cell_type": "code",
   "execution_count": 90,
   "id": "48f7d1b3",
   "metadata": {},
   "outputs": [],
   "source": [
    "# Near copy paste of the layers we have developed in Part 3\n",
    "\n",
    "# -----------------------------------------------------------------------------------------------\n",
    "class Linear:\n",
    "  \n",
    "  def __init__(self, fan_in, fan_out, bias=True):\n",
    "    self.weight = torch.randn((fan_in, fan_out)) / fan_in**0.5 # note: kaiming init\n",
    "    self.bias = torch.zeros(fan_out) if bias else None\n",
    "  \n",
    "  def __call__(self, x):\n",
    "    self.out = x @ self.weight\n",
    "    if self.bias is not None:\n",
    "      self.out += self.bias\n",
    "    return self.out\n",
    "  \n",
    "  def parameters(self):\n",
    "    return [self.weight] + ([] if self.bias is None else [self.bias])\n",
    "\n",
    "# -----------------------------------------------------------------------------------------------\n",
    "class BatchNorm1d:\n",
    "  \n",
    "  def __init__(self, dim, eps=1e-5, momentum=0.1):\n",
    "    self.eps = eps\n",
    "    self.momentum = momentum\n",
    "    self.training = True\n",
    "    # parameters (trained with backprop)\n",
    "    self.gamma = torch.ones(dim)\n",
    "    self.beta = torch.zeros(dim)\n",
    "    # buffers (trained with a running 'momentum update')\n",
    "    self.running_mean = torch.zeros(dim)\n",
    "    self.running_var = torch.ones(dim)\n",
    "  \n",
    "  def __call__(self, x):\n",
    "    # calculate the forward pass\n",
    "    if self.training:\n",
    "      #change\n",
    "      if x.ndim == 2:\n",
    "        dim = 0\n",
    "      elif x.ndim == 3:\n",
    "        dim = (0,1)\n",
    "      xmean = x.mean(dim, keepdim=True) # batch mean\n",
    "      xvar = x.var(dim, keepdim=True) # batch variance\n",
    "    else:\n",
    "      xmean = self.running_mean\n",
    "      xvar = self.running_var\n",
    "    xhat = (x - xmean) / torch.sqrt(xvar + self.eps) # normalize to unit variance\n",
    "    self.out = self.gamma * xhat + self.beta\n",
    "    # update the buffers\n",
    "    if self.training:\n",
    "      with torch.no_grad():\n",
    "        self.running_mean = (1 - self.momentum) * self.running_mean + self.momentum * xmean\n",
    "        self.running_var = (1 - self.momentum) * self.running_var + self.momentum * xvar\n",
    "    return self.out\n",
    "  \n",
    "  def parameters(self):\n",
    "    return [self.gamma, self.beta]\n",
    "\n",
    "# -----------------------------------------------------------------------------------------------\n",
    "class Tanh:\n",
    "  def __call__(self, x):\n",
    "    self.out = torch.tanh(x)\n",
    "    return self.out\n",
    "  def parameters(self):\n",
    "    return []\n",
    "#------------------------------------------------------------------------------------------------\n",
    "class Embedding:# pytorch also has this\n",
    "    def __init__(self,num_embeddings,embedding_dim):\n",
    "        self.weight=torch.randn((num_embeddings,embedding_dim))\n",
    "    def __call__(self,IX):\n",
    "        self.out = self.weight[IX]\n",
    "        return self.out\n",
    "    def parameters(self):\n",
    "        return [self.weight]\n",
    "#------------------------------------------------------------------------------------------------\n",
    "# class Flatten:\n",
    "       \n",
    "#     def __call__(self,x):\n",
    "#         self.out=x.view(x.shape[0],-1)\n",
    "#         return self.out\n",
    "#     def parameters(self):\n",
    "#         return []\n",
    "# changing flatten\n",
    "class FlattenConsecutive:\n",
    "    def  __init__(self,n):# it flattens some n and pus them into the last dimension\n",
    "        self.n=n\n",
    "    def __call__(self,x):\n",
    "        B,T,C = x.shape # in our below example B=4,t=8,C=10 4 is number of examples and 8 is the context and 10 is the features we are learning\n",
    "        x = x.view(B,T//self.n,C*self.n)\n",
    "        if x.shape[1]==1:\n",
    "            x=x.squeeze(1) # it squeezes out all the dimensions that are 1\n",
    "        self.out=x\n",
    "        return self.out\n",
    "    def parameters(self):\n",
    "        return []\n",
    "#------------------------------------------------------------------------------------------------\n",
    "class Sequential:\n",
    "    def __init__(self,layers):\n",
    "        self.layers=layers\n",
    "    def __call__(self,x):\n",
    "        for layer in self.layers:\n",
    "            x = layer(x)\n",
    "        self.out=x\n",
    "        return self.out\n",
    "    def parameters(self):\n",
    "        return [p for layer in self.layers for p in layer.parameters()]"
   ]
  },
  {
   "cell_type": "code",
   "execution_count": 55,
   "id": "df789e91",
   "metadata": {},
   "outputs": [],
   "source": [
    "torch.manual_seed(42); # seed rng for reproducibility"
   ]
  },
  {
   "cell_type": "code",
   "execution_count": 119,
   "id": "27c8e82a",
   "metadata": {},
   "outputs": [
    {
     "name": "stdout",
     "output_type": "stream",
     "text": [
      "76579\n"
     ]
    }
   ],
   "source": [
    "n_embd = 24 # the dimensionality of the character embedding vectors\n",
    "n_hidden = 128 # the number of neurons in the hidden layer of the MLP # we changed it to 68 from 200 to make parameters same and we will see if this is better architecture \n",
    "C = torch.rand((vocab_size,n_embd))\n",
    "# in nn there are containers which is a way of organizing layers using list or dict\n",
    "model = Sequential([\n",
    "    Embedding(vocab_size,n_embd),\n",
    "    FlattenConsecutive(2), Linear(n_embd*2, n_hidden,bias=False), BatchNorm1d(n_hidden), Tanh(),\n",
    "    FlattenConsecutive(2), Linear(n_hidden*2, n_hidden,bias=False), BatchNorm1d(n_hidden), Tanh(),\n",
    "    FlattenConsecutive(2), Linear(n_hidden*2, n_hidden,bias=False), BatchNorm1d(n_hidden), Tanh(),\n",
    "    Linear(n_hidden, vocab_size),# last layer linear for output\n",
    "])\n",
    "\n",
    "# parameter init\n",
    "with torch.no_grad():\n",
    "    layers[-1].weight *= 0.1 # last layer make less confident\n",
    "\n",
    "parameters =model.parameters()\n",
    "print(sum(p.nelement() for p in parameters)) # number of parameters in total\n",
    "for p in parameters:\n",
    "  p.requires_grad = True"
   ]
  },
  {
   "cell_type": "markdown",
   "id": "08297adf",
   "metadata": {},
   "source": [
    "### scratch space"
   ]
  },
  {
   "cell_type": "code",
   "execution_count": 95,
   "id": "434bbc2b",
   "metadata": {},
   "outputs": [
    {
     "name": "stdout",
     "output_type": "stream",
     "text": [
      "torch.Size([4, 8])\n"
     ]
    },
    {
     "data": {
      "text/plain": [
       "tensor([[ 0,  0,  0,  0,  0,  0,  0,  0],\n",
       "        [ 0, 18, 15,  4, 15, 12,  6, 15],\n",
       "        [ 3,  1, 12, 12,  1,  7,  8,  1],\n",
       "        [ 0,  0,  0,  0,  0,  3, 15, 18]])"
      ]
     },
     "execution_count": 95,
     "metadata": {},
     "output_type": "execute_result"
    }
   ],
   "source": [
    "ix= torch.randint(0,Xtr.shape[0],(4,))# let's look at a batch of just 4 examples\n",
    "Xb, Yb = Xtr[ix],Ytr[ix]\n",
    "logits = model(Xb)\n",
    "print(Xb.shape)#[4x8] 8 characters for each examples\n",
    "Xb"
   ]
  },
  {
   "cell_type": "code",
   "execution_count": 96,
   "id": "a0956042",
   "metadata": {},
   "outputs": [
    {
     "name": "stdout",
     "output_type": "stream",
     "text": [
      "Embedding : (4, 8, 10)\n",
      "FlattenConsecutive : (4, 4, 20)\n",
      "Linear : (4, 4, 200)\n",
      "BatchNorm1d : (4, 4, 200)\n",
      "Tanh : (4, 4, 200)\n",
      "FlattenConsecutive : (4, 2, 400)\n",
      "Linear : (4, 2, 200)\n",
      "BatchNorm1d : (4, 2, 200)\n",
      "Tanh : (4, 2, 200)\n",
      "FlattenConsecutive : (4, 400)\n",
      "Linear : (4, 200)\n",
      "BatchNorm1d : (4, 200)\n",
      "Tanh : (4, 200)\n",
      "Linear : (4, 27)\n"
     ]
    }
   ],
   "source": [
    "for layer in model.layers:# when block size we inputted not 2\n",
    "    print(layer.__class__.__name__,\":\",tuple(layer.out.shape))"
   ]
  },
  {
   "cell_type": "code",
   "execution_count": 70,
   "id": "e7e090bc",
   "metadata": {},
   "outputs": [
    {
     "data": {
      "text/plain": [
       "torch.Size([4, 8, 10])"
      ]
     },
     "execution_count": 70,
     "metadata": {},
     "output_type": "execute_result"
    }
   ],
   "source": [
    "# first layer of our nn is the embedding layer \n",
    "model.layers[0].out.shape # output of the embedding layer\n",
    "# we are trying to learn 10 features for each character so [4,8,10]"
   ]
  },
  {
   "cell_type": "code",
   "execution_count": 71,
   "id": "0ff6bd2e",
   "metadata": {},
   "outputs": [
    {
     "data": {
      "text/plain": [
       "torch.Size([4, 80])"
      ]
     },
     "execution_count": 71,
     "metadata": {},
     "output_type": "execute_result"
    }
   ],
   "source": [
    "model.layers[1].out.shape #output of the flatten layer\n",
    "# views this tensor as 4,80 just the above thing viewed in a different  "
   ]
  },
  {
   "cell_type": "code",
   "execution_count": 72,
   "id": "77473520",
   "metadata": {
    "scrolled": true
   },
   "outputs": [
    {
     "data": {
      "text/plain": [
       "torch.Size([4, 200])"
      ]
     },
     "execution_count": 72,
     "metadata": {},
     "output_type": "execute_result"
    }
   ],
   "source": [
    "model.layers[2].out.shape #output of linear layer"
   ]
  },
  {
   "cell_type": "code",
   "execution_count": 78,
   "id": "3969f42b",
   "metadata": {},
   "outputs": [
    {
     "data": {
      "text/plain": [
       "torch.Size([4, 5, 2, 200])"
      ]
     },
     "execution_count": 78,
     "metadata": {},
     "output_type": "execute_result"
    }
   ],
   "source": [
    "(torch.randn(4,80)@ torch.randn(80,200) + torch.randn(200)).shape# this is what happening in the linear layer\n",
    "# the x need not be a 2 dimensional vector it can be more\n",
    "(torch.randn(4,5,2,80)@ torch.randn(80,200) + torch.randn(200)).shape #torch.Size([4, 5, 2, 200])"
   ]
  },
  {
   "cell_type": "code",
   "execution_count": null,
   "id": "ac7793e6",
   "metadata": {},
   "outputs": [],
   "source": [
    "# effectively whats happening is matrix mulitplication is applied on last dimension and other are left unchanged\n",
    "# we have these 8 characters coming in we dont want to flatten it out , we dont want to matrix multiply 80\n",
    "# instead we want to group this\n",
    "# (1 2) (3 4) (5 6) (7 8)\n",
    "# every consecutive 2 elements shd be flattened out and multiply by weight matrices\n",
    "# we can  matrix multiply these in parallel "
   ]
  },
  {
   "cell_type": "code",
   "execution_count": null,
   "id": "ba16d5f7",
   "metadata": {},
   "outputs": [],
   "source": [
    "# (torch.randn(4,80)@ torch.randn(80,200) + torch.randn(200)).shape we dont want this\n",
    "(torch.randn(4,4,20)@ torch.randn(20,200) + torch.randn(200)).shape \n",
    "# we want this so we have to change the flatten layer so that it gives 4,4,20 instead of 4,80 \n",
    "# and alsoo we want to change the linear layer so tht it expects 20 numbers"
   ]
  },
  {
   "cell_type": "code",
   "execution_count": 86,
   "id": "ae0e53ab",
   "metadata": {},
   "outputs": [
    {
     "data": {
      "text/plain": [
       "[0, 2, 4, 6, 8]"
      ]
     },
     "execution_count": 86,
     "metadata": {},
     "output_type": "execute_result"
    }
   ],
   "source": [
    "list(range(0,10,2))"
   ]
  },
  {
   "cell_type": "code",
   "execution_count": 82,
   "id": "9dc45a2e",
   "metadata": {},
   "outputs": [
    {
     "data": {
      "text/plain": [
       "torch.Size([4, 80])"
      ]
     },
     "execution_count": 82,
     "metadata": {},
     "output_type": "execute_result"
    }
   ],
   "source": [
    "# currently it is doing this\n",
    "e = torch.randn(4,8,10)\n",
    "e.view(4,-1).shape"
   ]
  },
  {
   "cell_type": "code",
   "execution_count": 83,
   "id": "24e41316",
   "metadata": {},
   "outputs": [
    {
     "data": {
      "text/plain": [
       "torch.Size([4, 4, 20])"
      ]
     },
     "execution_count": 83,
     "metadata": {},
     "output_type": "execute_result"
    }
   ],
   "source": [
    "# we want that to be consecutive 10-d vectors get concatenated\n",
    "e = torch.randn(4,8,10)\n",
    "e.view(4,-1,20).shape"
   ]
  },
  {
   "cell_type": "code",
   "execution_count": 89,
   "id": "e062a5bd",
   "metadata": {},
   "outputs": [
    {
     "data": {
      "text/plain": [
       "tensor(True)"
      ]
     },
     "execution_count": 89,
     "metadata": {},
     "output_type": "execute_result"
    }
   ],
   "source": [
    "explicit=torch.cat([e[:,::2,:],e[:,1::2,:]],dim=2)\n",
    "(explicit==e.view(4,-1,20)).all()"
   ]
  },
  {
   "cell_type": "code",
   "execution_count": 113,
   "id": "35d5d14e",
   "metadata": {},
   "outputs": [
    {
     "name": "stdout",
     "output_type": "stream",
     "text": [
      "Embedding : (32, 8, 10)\n",
      "FlattenConsecutive : (32, 4, 20)\n",
      "Linear : (32, 4, 68)\n",
      "BatchNorm1d : (32, 4, 68)\n",
      "Tanh : (32, 4, 68)\n",
      "FlattenConsecutive : (32, 2, 136)\n",
      "Linear : (32, 2, 68)\n",
      "BatchNorm1d : (32, 2, 68)\n",
      "Tanh : (32, 2, 68)\n",
      "FlattenConsecutive : (32, 136)\n",
      "Linear : (32, 68)\n",
      "BatchNorm1d : (32, 68)\n",
      "Tanh : (32, 68)\n",
      "Linear : (32, 27)\n"
     ]
    }
   ],
   "source": [
    "for layer in model.layers:# when 2 is the input and we did the full optimization\n",
    "    print(layer.__class__.__name__,\":\",tuple(layer.out.shape))"
   ]
  },
  {
   "cell_type": "code",
   "execution_count": 114,
   "id": "33d9ceb5",
   "metadata": {},
   "outputs": [
    {
     "data": {
      "text/plain": [
       "torch.Size([32, 4, 68])"
      ]
     },
     "execution_count": 114,
     "metadata": {},
     "output_type": "execute_result"
    }
   ],
   "source": [
    "e = torch.randn(32,4,68)\n",
    "emean = e.mean(0,keepdims=True)# 1,4,68 # what we are getting is mean over only the first dimension \n",
    "evar = e.var(0,keepdims=True)# 1,4,68\n",
    "ehat = (e-emean)/torch.sqrt(evar+1e5)# 32,4,68\n",
    "ehat.shape"
   ]
  },
  {
   "cell_type": "code",
   "execution_count": 116,
   "id": "88d78a49",
   "metadata": {},
   "outputs": [
    {
     "data": {
      "text/plain": [
       "torch.Size([32, 4, 68])"
      ]
     },
     "execution_count": 116,
     "metadata": {},
     "output_type": "execute_result"
    }
   ],
   "source": [
    "# pytorch mean and var can take tuple dim  also \n",
    "e = torch.randn(32,4,68)\n",
    "emean = e.mean((0,1),keepdims=True)# 1,1,68  \n",
    "evar = e.var((0,1),keepdims=True)# 1,1,68\n",
    "ehat = (e-emean)/torch.sqrt(evar+1e5)# 32,4,68\n",
    "ehat.shape"
   ]
  },
  {
   "cell_type": "code",
   "execution_count": 117,
   "id": "0843c388",
   "metadata": {},
   "outputs": [
    {
     "data": {
      "text/plain": [
       "torch.Size([1, 1, 68])"
      ]
     },
     "execution_count": 117,
     "metadata": {},
     "output_type": "execute_result"
    }
   ],
   "source": [
    "emean.shape"
   ]
  },
  {
   "cell_type": "code",
   "execution_count": 118,
   "id": "04115956",
   "metadata": {},
   "outputs": [
    {
     "data": {
      "text/plain": [
       "torch.Size([1, 1, 68])"
      ]
     },
     "execution_count": 118,
     "metadata": {},
     "output_type": "execute_result"
    }
   ],
   "source": [
    "model.layers[3].running_mean.shape"
   ]
  },
  {
   "cell_type": "markdown",
   "id": "7c47ee49",
   "metadata": {},
   "source": [
    "### optimization"
   ]
  },
  {
   "cell_type": "code",
   "execution_count": 120,
   "id": "d528a4ec",
   "metadata": {},
   "outputs": [
    {
     "name": "stdout",
     "output_type": "stream",
     "text": [
      "      0/ 200000:3.6050\n",
      "  10000/ 200000:2.0735\n",
      "  20000/ 200000:2.1947\n",
      "  30000/ 200000:2.0963\n",
      "  40000/ 200000:2.1665\n",
      "  50000/ 200000:2.5522\n",
      "  60000/ 200000:1.8361\n",
      "  70000/ 200000:1.8633\n",
      "  80000/ 200000:1.9130\n",
      "  90000/ 200000:1.6443\n",
      " 100000/ 200000:1.8622\n",
      " 110000/ 200000:1.5901\n",
      " 120000/ 200000:1.8301\n",
      " 130000/ 200000:1.7545\n",
      " 140000/ 200000:1.9715\n",
      " 150000/ 200000:1.9720\n",
      " 160000/ 200000:2.0220\n",
      " 170000/ 200000:1.4837\n",
      " 180000/ 200000:2.0199\n",
      " 190000/ 200000:1.7412\n"
     ]
    }
   ],
   "source": [
    "max_steps = 200000\n",
    "batch_size = 32\n",
    "lossi=[]\n",
    "\n",
    "\n",
    "for i in range(max_steps):\n",
    "    #minibatch construct\n",
    "    ix = torch.randint(0,Xtr.shape[0],(batch_size,))\n",
    "    Xb,Yb = Xtr[ix],Ytr[ix]\n",
    "    #forward pass\n",
    "    logits = model(Xb)\n",
    "    loss = F.cross_entropy(logits,Yb)#loss function\n",
    "    #backward pass\n",
    "    for p in parameters:\n",
    "        p.grad = None\n",
    "    loss.backward()\n",
    "    #update\n",
    "    lr = 0.1 if i<150000 else 0.01 #learning rate decay\n",
    "    for p in parameters:\n",
    "        p.data += -lr*p.grad\n",
    "    #track stats\n",
    "    if i%10000==0:\n",
    "        print(f'{i:7d}/{max_steps:7d}:{loss.item():.4f}')\n",
    "    lossi.append(loss.log10().item())\n",
    "    \n",
    "    "
   ]
  },
  {
   "cell_type": "code",
   "execution_count": 122,
   "id": "3c892d48",
   "metadata": {
    "scrolled": true
   },
   "outputs": [
    {
     "data": {
      "text/plain": [
       "[<matplotlib.lines.Line2D at 0x1c902cc28b0>]"
      ]
     },
     "execution_count": 122,
     "metadata": {},
     "output_type": "execute_result"
    },
    {
     "data": {
      "image/png": "[encoded data removed]",
      "text/plain": [
       "<Figure size 432x288 with 1 Axes>"
      ]
     },
     "metadata": {
      "needs_background": "light"
     },
     "output_type": "display_data"
    }
   ],
   "source": [
    "plt.plot(lossi)# because 32 batch elements are too few we can get lucky or unlucky thats why the graph comes thick initially we have to fix that shit"
   ]
  },
  {
   "cell_type": "code",
   "execution_count": 121,
   "id": "57530e3d",
   "metadata": {},
   "outputs": [
    {
     "data": {
      "text/plain": [
       "[<matplotlib.lines.Line2D at 0x1c902c7c370>]"
      ]
     },
     "execution_count": 121,
     "metadata": {},
     "output_type": "execute_result"
    },
    {
     "data": {
      "image/png": "[encoded data removed]",
      "text/plain": [
       "<Figure size 432x288 with 1 Axes>"
      ]
     },
     "metadata": {
      "needs_background": "light"
     },
     "output_type": "display_data"
    }
   ],
   "source": [
    "plt.plot(torch.tensor(lossi).view(-1,1000).mean(1))\n",
    "# that dip is due to lr decay , it subtracted a ton of energy from out system and made it stable"
   ]
  },
  {
   "cell_type": "code",
   "execution_count": 123,
   "id": "d03d931f",
   "metadata": {},
   "outputs": [],
   "source": [
    "for layer in model.layers:\n",
    "    layer.training=False"
   ]
  },
  {
   "cell_type": "code",
   "execution_count": 124,
   "id": "4bfba965",
   "metadata": {},
   "outputs": [
    {
     "name": "stdout",
     "output_type": "stream",
     "text": [
      "train 1.7713531255722046\n",
      "val 1.9881757497787476\n"
     ]
    }
   ],
   "source": [
    "@torch.no_grad() # this decorator disables gradient tracking\n",
    "def split_loss(split):\n",
    "    x,y = {\n",
    "      'train': (Xtr, Ytr),\n",
    "      'val': (Xdev, Ydev),\n",
    "      'test': (Xte, Yte),\n",
    "    }[split]\n",
    "    logits = model(x)\n",
    "    loss = F.cross_entropy(logits,y)#loss function\n",
    "    print(split, loss.item())\n",
    "\n",
    "split_loss('train')\n",
    "split_loss('val')"
   ]
  },
  {
   "cell_type": "markdown",
   "id": "3f94ff40",
   "metadata": {},
   "source": [
    "## Performance Log\n",
    "* original (3 character context + 200 hidden neurons, 12K params): train 2.042 , val 2.106\n",
    "* context 3 -> 8 (22K params): train 1.917, val 2.030 (just train the whole thing same just change the context length to 8 )\n",
    "* flat -> hierarchical (22K params): train 1.941 , val 2.029(not a improvement yet) because batch norm is not working properly there is a bug in batch norm that it expects 2d input , it doesnt give error because everything broadcasts properly but batch norm is not doing what we want it to do\n",
    "* fix batchnorm bug train 1.913, val 2.021\n",
    "* scale up by increaseing the n_embd from 10 to 24 and n_hidden from 68 to 128 smtg , train 1.771 ,val 1.988"
   ]
  },
  {
   "cell_type": "code",
   "execution_count": 46,
   "id": "36cc90ea",
   "metadata": {},
   "outputs": [
    {
     "data": {
      "text/plain": [
       "tensor(0.5000)"
      ]
     },
     "execution_count": 46,
     "metadata": {},
     "output_type": "execute_result"
    }
   ],
   "source": [
    "# when we pass context of single example to a batch norm that is in training mode we are going to end up calculating the variance of a single number which is nan\n",
    "# torch.var(torch.tensor([5.0,4.0]))"
   ]
  },
  {
   "cell_type": "code",
   "execution_count": 125,
   "id": "8ec77a48",
   "metadata": {},
   "outputs": [
    {
     "name": "stdout",
     "output_type": "stream",
     "text": [
      "arihav.\n",
      "valen.\n",
      "jazzley.\n",
      "iovani.\n",
      "tochenso.\n",
      "kaola.\n",
      "oylohnie.\n",
      "rosalindo.\n",
      "melandan.\n",
      "quan.\n",
      "tilah.\n",
      "dillias.\n",
      "diyus.\n",
      "wilby.\n",
      "taim.\n",
      "edder.\n",
      "armond.\n",
      "keylon.\n",
      "kanai.\n",
      "lennna.\n"
     ]
    }
   ],
   "source": [
    "g = torch.Generator().manual_seed(2147483647 + 10)\n",
    "\n",
    "for _ in range(20):\n",
    "    \n",
    "    out = []\n",
    "    context = [0] * block_size # initialize with all ...\n",
    "    while True:\n",
    "        logits = model(torch.tensor([context]))\n",
    "        probs = F.softmax(logits, dim=1)\n",
    "        ix = torch.multinomial(probs, num_samples=1).item()\n",
    "        context = context[1:] + [ix]\n",
    "        out.append(ix)\n",
    "        if ix == 0:\n",
    "            break\n",
    "    \n",
    "    print(''.join(itos[i] for i in out))"
   ]
  },
  {
   "cell_type": "code",
   "execution_count": null,
   "id": "b9feb4e8",
   "metadata": {},
   "outputs": [],
   "source": []
  }
 ],
 "metadata": {
  "kernelspec": {
   "display_name": "Python 3 (ipykernel)",
   "language": "python",
   "name": "python3"
  },
  "language_info": {
   "codemirror_mode": {
    "name": "ipython",
    "version": 3
   },
   "file_extension": ".py",
   "mimetype": "text/x-python",
   "name": "python",
   "nbconvert_exporter": "python",
   "pygments_lexer": "ipython3",
   "version": "3.9.12"
  }
 },
 "nbformat": 4,
 "nbformat_minor": 5
}
