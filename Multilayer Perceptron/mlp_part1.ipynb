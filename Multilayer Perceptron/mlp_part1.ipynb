{
 "cells": [
  {
   "cell_type": "code",
   "execution_count": 1,
   "id": "b754cbb9",
   "metadata": {},
   "outputs": [],
   "source": [
    "import torch\n",
    "import torch.nn.functional as F\n",
    "import matplotlib.pyplot as plt\n",
    "%matplotlib inline"
   ]
  },
  {
   "cell_type": "code",
   "execution_count": 2,
   "id": "2856fc1e",
   "metadata": {},
   "outputs": [
    {
     "data": {
      "text/plain": [
       "['emma', 'olivia', 'ava', 'isabella', 'sophia']"
      ]
     },
     "execution_count": 2,
     "metadata": {},
     "output_type": "execute_result"
    }
   ],
   "source": [
    "words = open('names.txt','r').read().splitlines()\n",
    "words[:5]"
   ]
  },
  {
   "cell_type": "code",
   "execution_count": 7,
   "id": "555a233c",
   "metadata": {
    "scrolled": true
   },
   "outputs": [
    {
     "name": "stdout",
     "output_type": "stream",
     "text": [
      "{1: 'a', 2: 'b', 3: 'c', 4: 'd', 5: 'e', 6: 'f', 7: 'g', 8: 'h', 9: 'i', 10: 'j', 11: 'k', 12: 'l', 13: 'm', 14: 'n', 15: 'o', 16: 'p', 17: 'q', 18: 'r', 19: 's', 20: 't', 21: 'u', 22: 'v', 23: 'w', 24: 'x', 25: 'y', 26: 'z', 0: '.'}\n"
     ]
    }
   ],
   "source": [
    "chars = sorted(list(set(\"\".join(words))))\n",
    "stoi = {s:i+1 for i,s in enumerate(chars)}\n",
    "stoi['.']=0\n",
    "itos = {i+1:s for i,s in enumerate(chars)}\n",
    "itos[0]='.'\n",
    "print(itos)"
   ]
  },
  {
   "cell_type": "code",
   "execution_count": 114,
   "id": "cb6b4e68",
   "metadata": {},
   "outputs": [],
   "source": [
    "block_size = 3\n",
    "X,Y = [],[]\n",
    "for w in words:\n",
    "    context = [0]*block_size\n",
    "    for ch in w + '.':\n",
    "        ix = stoi[ch]\n",
    "        X.append(context)\n",
    "        Y.append(ix)\n",
    "        #print(''.join(itos[i] for i in context),'--->',itos[ix])\n",
    "        context = context[1:] +[ix]#crop and append\n",
    "X = torch.tensor(X)\n",
    "Y = torch.tensor(Y)"
   ]
  },
  {
   "cell_type": "code",
   "execution_count": 198,
   "id": "d2f75731",
   "metadata": {},
   "outputs": [
    {
     "name": "stdout",
     "output_type": "stream",
     "text": [
      "torch.Size([182441, 3]) torch.Size([182441])\n",
      "torch.Size([22902, 3]) torch.Size([22902])\n",
      "torch.Size([22803, 3]) torch.Size([22803])\n"
     ]
    }
   ],
   "source": [
    "def build_dataset(words):\n",
    "    block_size = 3\n",
    "    X,Y = [],[]\n",
    "    for w in words:\n",
    "        context = [0]*block_size\n",
    "        for ch in w + '.':\n",
    "            ix = stoi[ch]\n",
    "            X.append(context)\n",
    "            Y.append(ix)\n",
    "            #print(''.join(itos[i] for i in context),'--->',itos[ix])\n",
    "            context = context[1:] +[ix]#crop and append\n",
    "    X = torch.tensor(X)\n",
    "    Y = torch.tensor(Y)\n",
    "    print(X.shape,Y.shape)\n",
    "    return X,Y\n",
    "import random\n",
    "random.seed(42)\n",
    "random.shuffle(words)\n",
    "n1 = int(0.8*len(words))\n",
    "n2 = int(0.9*len(words))\n",
    "\n",
    "Xtr,Ytr = build_dataset(words[:n1])\n",
    "Xdev,Ydev = build_dataset(words[n1:n2])\n",
    "Xte,Yte = build_dataset(words[n2:])"
   ]
  },
  {
   "cell_type": "code",
   "execution_count": 201,
   "id": "afa1e289",
   "metadata": {},
   "outputs": [
    {
     "data": {
      "text/plain": [
       "3203"
      ]
     },
     "execution_count": 201,
     "metadata": {},
     "output_type": "execute_result"
    }
   ],
   "source": [
    "len(words)\n"
   ]
  },
  {
   "cell_type": "code",
   "execution_count": 115,
   "id": "74e72389",
   "metadata": {},
   "outputs": [
    {
     "data": {
      "text/plain": [
       "(torch.Size([228146, 3]), torch.int64, torch.Size([228146]), torch.int64)"
      ]
     },
     "execution_count": 115,
     "metadata": {},
     "output_type": "execute_result"
    }
   ],
   "source": [
    "X.shape,X.dtype,Y.shape,Y.dtype # 32,3 is context and y is the target"
   ]
  },
  {
   "cell_type": "code",
   "execution_count": 16,
   "id": "7f8731d7",
   "metadata": {},
   "outputs": [],
   "source": [
    "C = torch.randn((27,2)) #lets say each letter has 2 features \n",
    "#this is the embedding matrix initially"
   ]
  },
  {
   "cell_type": "code",
   "execution_count": 17,
   "id": "6b7c5f5c",
   "metadata": {},
   "outputs": [
    {
     "data": {
      "text/plain": [
       "tensor([1.2985, 1.6325])"
      ]
     },
     "execution_count": 17,
     "metadata": {},
     "output_type": "execute_result"
    }
   ],
   "source": [
    "C[5]"
   ]
  },
  {
   "cell_type": "code",
   "execution_count": 22,
   "id": "13f93cc2",
   "metadata": {},
   "outputs": [
    {
     "data": {
      "text/plain": [
       "tensor([1.2985, 1.6325])"
      ]
     },
     "execution_count": 22,
     "metadata": {},
     "output_type": "execute_result"
    }
   ],
   "source": [
    "F.one_hot(torch.tensor(5),num_classes=27).float()@C\n",
    "# one_hot takes input only torch tensors\n",
    "# we discard this method we will use indexing"
   ]
  },
  {
   "cell_type": "code",
   "execution_count": 23,
   "id": "87601ff1",
   "metadata": {},
   "outputs": [
    {
     "data": {
      "text/plain": [
       "tensor([[ 1.2985,  1.6325],\n",
       "        [ 0.6782, -1.1652],\n",
       "        [ 1.6307, -0.0508],\n",
       "        [ 1.6307, -0.0508],\n",
       "        [ 1.6307, -0.0508],\n",
       "        [ 1.6307, -0.0508]])"
      ]
     },
     "execution_count": 23,
     "metadata": {},
     "output_type": "execute_result"
    }
   ],
   "source": [
    "C[torch.tensor([5,6,7,7,7,7])]"
   ]
  },
  {
   "cell_type": "code",
   "execution_count": 25,
   "id": "c4b1f8a3",
   "metadata": {},
   "outputs": [
    {
     "data": {
      "text/plain": [
       "torch.Size([32, 3, 2])"
      ]
     },
     "execution_count": 25,
     "metadata": {},
     "output_type": "execute_result"
    }
   ],
   "source": [
    "C[X].shape"
   ]
  },
  {
   "cell_type": "code",
   "execution_count": 28,
   "id": "e2c1c366",
   "metadata": {},
   "outputs": [
    {
     "data": {
      "text/plain": [
       "torch.Size([32, 3, 2])"
      ]
     },
     "execution_count": 28,
     "metadata": {},
     "output_type": "execute_result"
    }
   ],
   "source": [
    "emb = C[X]\n",
    "emb.shape"
   ]
  },
  {
   "cell_type": "code",
   "execution_count": 76,
   "id": "385d4ff8",
   "metadata": {},
   "outputs": [],
   "source": [
    "W1 = torch.randn((6,100))#6 inputs and 100 neurons\n",
    "b1 = torch.randn(100)"
   ]
  },
  {
   "cell_type": "code",
   "execution_count": 70,
   "id": "1916fde1",
   "metadata": {
    "scrolled": true
   },
   "outputs": [],
   "source": [
    "# we need to do\n",
    "# emb @ W1 + b1\n",
    "#but before tht we need to convert [32,3,2] to [32,6]\n",
    "\n",
    "#METHOD 1\n",
    "# torch.cat([emb[:,0,:],emb[:,1,:],emb[:,2,:]],1).shape\n",
    "#METHOD 2\n",
    "# torch.cat(torch.unbind(emb,1),1) #unbind gives 3 ....32,2 matrices as a tuple\n",
    "#first two methods are inefficient and creates all kind of new memory\n",
    "#METHOD 3\n",
    "# but wait there is better \n",
    "# a = torch.arange(18)\n",
    "# we can rerepresent this using view\n",
    "# a.view(3,3,2)#as long as these numbers multiply to be the same this will work\n",
    "#extremely efficient\n",
    "# a.storage()\n",
    "# emb.shape\n",
    "# emb.view(32,6)==torch.cat(torch.unbind(emb,1),1)#True"
   ]
  },
  {
   "cell_type": "code",
   "execution_count": 77,
   "id": "7c426e56",
   "metadata": {},
   "outputs": [
    {
     "data": {
      "text/plain": [
       "torch.Size([32, 100])"
      ]
     },
     "execution_count": 77,
     "metadata": {},
     "output_type": "execute_result"
    }
   ],
   "source": [
    "h= torch.tanh(emb.view(-1,6)@W1 +b1)\n",
    "#if you put -1 pytorch willl calculate itself what that -1 is according to the number of elements\n",
    "h.shape"
   ]
  },
  {
   "cell_type": "code",
   "execution_count": 78,
   "id": "b185ddd7",
   "metadata": {},
   "outputs": [],
   "source": [
    "# broadcasting of b and W1\n",
    "# 32, 100\n",
    "#  1 ,100\n",
    "# correct"
   ]
  },
  {
   "cell_type": "code",
   "execution_count": 86,
   "id": "74cad5e3",
   "metadata": {},
   "outputs": [],
   "source": [
    "W2 = torch.randn((100,27))\n",
    "b2 = torch.randn(27)"
   ]
  },
  {
   "cell_type": "code",
   "execution_count": 90,
   "id": "03266470",
   "metadata": {},
   "outputs": [
    {
     "data": {
      "text/plain": [
       "tensor(1.0000)"
      ]
     },
     "execution_count": 90,
     "metadata": {},
     "output_type": "execute_result"
    }
   ],
   "source": [
    "logits = h@W2 + b2 #([32,27])\n",
    "counts = logits.exp()\n",
    "probs = counts/counts.sum(1,keepdims=True)\n",
    "probs[0].sum()"
   ]
  },
  {
   "cell_type": "code",
   "execution_count": 95,
   "id": "7d5ef1d2",
   "metadata": {},
   "outputs": [
    {
     "data": {
      "text/plain": [
       "tensor(15.5170)"
      ]
     },
     "execution_count": 95,
     "metadata": {},
     "output_type": "execute_result"
    }
   ],
   "source": [
    "loss = -probs[torch.arange(32),Y].log().mean()\n",
    "loss"
   ]
  },
  {
   "cell_type": "code",
   "execution_count": null,
   "id": "ce7c9070",
   "metadata": {},
   "outputs": [],
   "source": [
    "# counts = logits.exp()\n",
    "# probs = counts/counts.sum(1,keepdims=True)\n",
    "# loss = -probs[torch.arange(32),Y].log().mean() \n",
    "# these three lines are useless pytorch has better thing\n",
    "#F.cross_entropy is well behaved numerically , faster , and easy to back propagate through\n",
    "# for example pytorch takes the maximum number in the tensor and minus it\n"
   ]
  },
  {
   "cell_type": "code",
   "execution_count": null,
   "id": "3b49fd39",
   "metadata": {},
   "outputs": [],
   "source": [
    "# =================== MAKING IT RESPECTABLE ======================#"
   ]
  },
  {
   "cell_type": "code",
   "execution_count": 236,
   "id": "6b48a2c6",
   "metadata": {},
   "outputs": [
    {
     "data": {
      "text/plain": [
       "(torch.Size([182441, 3]), torch.Size([182441]))"
      ]
     },
     "execution_count": 236,
     "metadata": {},
     "output_type": "execute_result"
    }
   ],
   "source": [
    "Xtr.shape,Ytr.shape"
   ]
  },
  {
   "cell_type": "code",
   "execution_count": 237,
   "id": "af6b4731",
   "metadata": {},
   "outputs": [],
   "source": [
    "g = torch.Generator().manual_seed(2147483647) \n",
    "C = torch.randn((27,2),generator=g)\n",
    "W1 = torch.randn((6,400),generator=g)#6 inputs and 100 neurons\n",
    "b1 = torch.randn(400,generator=g)\n",
    "W2 = torch.randn((400,27),generator=g)\n",
    "b2 = torch.randn(27,generator=g)\n",
    "parameters = [C,W1,b1,W2,b2]"
   ]
  },
  {
   "cell_type": "code",
   "execution_count": 238,
   "id": "a5daf610",
   "metadata": {},
   "outputs": [
    {
     "data": {
      "text/plain": [
       "13681"
      ]
     },
     "execution_count": 238,
     "metadata": {},
     "output_type": "execute_result"
    }
   ],
   "source": [
    "sum(p.nelement() for p in parameters)"
   ]
  },
  {
   "cell_type": "code",
   "execution_count": 239,
   "id": "41bec71f",
   "metadata": {},
   "outputs": [],
   "source": [
    "for p in parameters:\n",
    "    p.requires_grad=True"
   ]
  },
  {
   "cell_type": "code",
   "execution_count": 240,
   "id": "0b893762",
   "metadata": {},
   "outputs": [],
   "source": [
    "lre = torch.linspace(-3,0,1000)#1000 numbers between -3 and 0\n",
    "lrs = 10**lre\n",
    "# to determine the best learning rates"
   ]
  },
  {
   "cell_type": "code",
   "execution_count": 246,
   "id": "1c330bf1",
   "metadata": {},
   "outputs": [],
   "source": [
    "lri = []\n",
    "lossi = []\n",
    "stepi = [] #trying to keep track of steps\n",
    "for i in range(10000):\n",
    "    #minibatch construct\n",
    "    ix = torch.randint(0,Xtr.shape[0],(32,))\n",
    "    \n",
    "    #forward pass\n",
    "    emb = C[Xtr[ix]]#(32,3,2)\n",
    "    h= torch.tanh(emb.view(-1,6)@W1 +b1)#(32,100)\n",
    "    logits = h@W2 + b2 #([32,27])\n",
    "    loss = F.cross_entropy(logits,Ytr[ix])\n",
    "#     print(loss.item())\n",
    "    #backward pass\n",
    "    for p in parameters:\n",
    "        p.grad = None\n",
    "    loss.backward()\n",
    "    #update\n",
    "#     lr = lrs[i]\n",
    "    lr = 0.01\n",
    "    for p in parameters:\n",
    "        p.data += -lr*p.grad\n",
    "    #track stats\n",
    "    #lri.append(lre[i])\n",
    "    stepi.append(i)\n",
    "    lossi.append(loss.item())"
   ]
  },
  {
   "cell_type": "code",
   "execution_count": 247,
   "id": "30439e46",
   "metadata": {},
   "outputs": [
    {
     "name": "stdout",
     "output_type": "stream",
     "text": [
      "2.09234356880188\n"
     ]
    }
   ],
   "source": [
    "print(loss.item())"
   ]
  },
  {
   "cell_type": "code",
   "execution_count": 221,
   "id": "1f4f5727",
   "metadata": {},
   "outputs": [
    {
     "data": {
      "text/plain": [
       "[<matplotlib.lines.Line2D at 0x20dac1d2340>]"
      ]
     },
     "execution_count": 221,
     "metadata": {},
     "output_type": "execute_result"
    },
    {
     "data": {
      "image/png": "[encoded data removed]",
      "text/plain": [
       "<Figure size 432x288 with 1 Axes>"
      ]
     },
     "metadata": {
      "needs_background": "light"
     },
     "output_type": "display_data"
    }
   ],
   "source": [
    "plt.plot(stepi,lossi)"
   ]
  },
  {
   "cell_type": "code",
   "execution_count": 145,
   "id": "25071bd8",
   "metadata": {
    "scrolled": true
   },
   "outputs": [
    {
     "data": {
      "text/plain": [
       "[<matplotlib.lines.Line2D at 0x20dad08a550>]"
      ]
     },
     "execution_count": 145,
     "metadata": {},
     "output_type": "execute_result"
    },
    {
     "data": {
      "image/png": "[encoded data removed]",
      "text/plain": [
       "<Figure size 432x288 with 1 Axes>"
      ]
     },
     "metadata": {
      "needs_background": "light"
     },
     "output_type": "display_data"
    }
   ],
   "source": [
    "# plt.plot(lri,lossi)"
   ]
  },
  {
   "cell_type": "code",
   "execution_count": 248,
   "id": "c41f548b",
   "metadata": {},
   "outputs": [
    {
     "data": {
      "text/plain": [
       "tensor(2.2635, grad_fn=<NllLossBackward0>)"
      ]
     },
     "execution_count": 248,
     "metadata": {},
     "output_type": "execute_result"
    }
   ],
   "source": [
    "emb = C[Xtr]\n",
    "h = torch.tanh(emb.view(-1,6)@W1+b1)\n",
    "logits = h@W2 + b2\n",
    "loss = F.cross_entropy(logits,Ytr)\n",
    "loss"
   ]
  },
  {
   "cell_type": "code",
   "execution_count": 249,
   "id": "3e4dec84",
   "metadata": {},
   "outputs": [],
   "source": [
    "# tensor(2.3117, grad_fn=<NllLossBackward0>)training loss\n",
    "# tensor(2.3166, grad_fn=<NllLossBackward0>) dev loss\n",
    "# training loss and dev loss are about equal so underfitting (high bias)\n",
    "# get a bigger network"
   ]
  },
  {
   "cell_type": "code",
   "execution_count": 250,
   "id": "935cfe31",
   "metadata": {},
   "outputs": [
    {
     "data": {
      "text/plain": [
       "tensor(2.2752, grad_fn=<NllLossBackward0>)"
      ]
     },
     "execution_count": 250,
     "metadata": {},
     "output_type": "execute_result"
    }
   ],
   "source": [
    "emb = C[Xdev]\n",
    "h = torch.tanh(emb.view(-1,6)@W1+b1)\n",
    "logits = h@W2 + b2\n",
    "loss = F.cross_entropy(logits,Ydev)\n",
    "loss\n"
   ]
  },
  {
   "cell_type": "code",
   "execution_count": null,
   "id": "d66fc14c",
   "metadata": {},
   "outputs": [],
   "source": [
    "#training split , dev/validation split,test split\n",
    "# 80% ,10%,10%"
   ]
  },
  {
   "cell_type": "code",
   "execution_count": 251,
   "id": "9e664084",
   "metadata": {},
   "outputs": [
    {
     "data": {
      "image/png": "[encoded data removed]",
      "text/plain": [
       "<Figure size 576x576 with 1 Axes>"
      ]
     },
     "metadata": {
      "needs_background": "light"
     },
     "output_type": "display_data"
    }
   ],
   "source": [
    "plt.figure(figsize=(8,8))\n",
    "plt.scatter(C[:,0].data,C[:,1].data,s=200)\n",
    "for i in range(C.shape[0]):\n",
    "    plt.text(C[i,0].item(),C[i,1].item(),itos[i],ha=\"center\",va = \"center\",color='white')\n",
    "plt.grid('minor')"
   ]
  },
  {
   "cell_type": "code",
   "execution_count": 252,
   "id": "80b18ed2",
   "metadata": {},
   "outputs": [],
   "source": [
    "# ============= INCREASING THE WORD EMBEDDINGS SIZE FROM 2 TO 10 ===============#"
   ]
  },
  {
   "cell_type": "code",
   "execution_count": null,
   "id": "f1b36741",
   "metadata": {},
   "outputs": [],
   "source": [
    "Xtr.shape,Ytr.shape"
   ]
  },
  {
   "cell_type": "code",
   "execution_count": 253,
   "id": "7b06e322",
   "metadata": {},
   "outputs": [],
   "source": [
    "g = torch.Generator().manual_seed(2147483647) \n",
    "C = torch.randn((27,10),generator=g)\n",
    "W1 = torch.randn((30,200),generator=g)#6 inputs and 100 neurons\n",
    "b1 = torch.randn(200,generator=g)\n",
    "W2 = torch.randn((200,27),generator=g)\n",
    "b2 = torch.randn(27,generator=g)\n",
    "parameters = [C,W1,b1,W2,b2]"
   ]
  },
  {
   "cell_type": "code",
   "execution_count": 254,
   "id": "4b73aa11",
   "metadata": {},
   "outputs": [
    {
     "data": {
      "text/plain": [
       "11897"
      ]
     },
     "execution_count": 254,
     "metadata": {},
     "output_type": "execute_result"
    }
   ],
   "source": [
    "sum(p.nelement() for p in parameters)"
   ]
  },
  {
   "cell_type": "code",
   "execution_count": 255,
   "id": "4ed78c22",
   "metadata": {},
   "outputs": [],
   "source": [
    "for p in parameters:\n",
    "    p.requires_grad=True"
   ]
  },
  {
   "cell_type": "code",
   "execution_count": 256,
   "id": "1dacfe72",
   "metadata": {},
   "outputs": [],
   "source": [
    "lri = []\n",
    "lossi = []\n",
    "#trying to keep track of steps\n",
    "stepi = []"
   ]
  },
  {
   "cell_type": "code",
   "execution_count": 266,
   "id": "fe9bac62",
   "metadata": {},
   "outputs": [],
   "source": [
    "for i in range(50000):\n",
    "    #minibatch construct\n",
    "    ix = torch.randint(0,Xtr.shape[0],(32,))\n",
    "    \n",
    "    #forward pass\n",
    "    emb = C[Xtr[ix]]#(32,3,2)\n",
    "    h= torch.tanh(emb.view(-1,30)@W1 +b1)#(32,100)\n",
    "    logits = h@W2 + b2 #([32,27])\n",
    "    loss = F.cross_entropy(logits,Ytr[ix])\n",
    "#     print(loss.item())\n",
    "    #backward pass\n",
    "    for p in parameters:\n",
    "        p.grad = None\n",
    "    loss.backward()\n",
    "    #update\n",
    "#     lr = lrs[i]\n",
    "    lr = 0.01\n",
    "    for p in parameters:\n",
    "        p.data += -lr*p.grad\n",
    "    #track stats\n",
    "    #lri.append(lre[i])\n",
    "    stepi.append(i)\n",
    "    lossi.append(loss.log10().item())"
   ]
  },
  {
   "cell_type": "code",
   "execution_count": 267,
   "id": "f27dc142",
   "metadata": {},
   "outputs": [
    {
     "name": "stdout",
     "output_type": "stream",
     "text": [
      "2.184648275375366\n"
     ]
    }
   ],
   "source": [
    "print(loss.item())"
   ]
  },
  {
   "cell_type": "code",
   "execution_count": 270,
   "id": "e6685b90",
   "metadata": {},
   "outputs": [
    {
     "data": {
      "text/plain": [
       "[<matplotlib.lines.Line2D at 0x20dd02c3700>]"
      ]
     },
     "execution_count": 270,
     "metadata": {},
     "output_type": "execute_result"
    },
    {
     "data": {
      "image/png": "[encoded data removed]",
      "text/plain": [
       "<Figure size 432x288 with 1 Axes>"
      ]
     },
     "metadata": {
      "needs_background": "light"
     },
     "output_type": "display_data"
    }
   ],
   "source": [
    "plt.plot(stepi,lossi)"
   ]
  },
  {
   "cell_type": "code",
   "execution_count": 268,
   "id": "d956e655",
   "metadata": {},
   "outputs": [
    {
     "data": {
      "text/plain": [
       "tensor(2.1705, grad_fn=<NllLossBackward0>)"
      ]
     },
     "execution_count": 268,
     "metadata": {},
     "output_type": "execute_result"
    }
   ],
   "source": [
    "emb = C[Xtr]\n",
    "h = torch.tanh(emb.view(-1,30)@W1+b1)\n",
    "logits = h@W2 + b2\n",
    "loss = F.cross_entropy(logits,Ytr)\n",
    "loss"
   ]
  },
  {
   "cell_type": "code",
   "execution_count": 269,
   "id": "fc47ff0a",
   "metadata": {},
   "outputs": [
    {
     "data": {
      "text/plain": [
       "tensor(2.2103, grad_fn=<NllLossBackward0>)"
      ]
     },
     "execution_count": 269,
     "metadata": {},
     "output_type": "execute_result"
    }
   ],
   "source": [
    "emb = C[Xdev]\n",
    "h = torch.tanh(emb.view(-1,30)@W1+b1)\n",
    "logits = h@W2 + b2\n",
    "loss = F.cross_entropy(logits,Ydev)\n",
    "loss"
   ]
  },
  {
   "cell_type": "code",
   "execution_count": 271,
   "id": "1060f9ea",
   "metadata": {},
   "outputs": [
    {
     "name": "stdout",
     "output_type": "stream",
     "text": [
      "carmah.\n",
      "amelle.\n",
      "khiim.\n",
      "shreety.\n",
      "skanden.\n",
      "jazhnevalee.\n",
      "art.\n",
      "kaqui.\n",
      "nellara.\n",
      "chaiiy.\n",
      "kaleigh.\n",
      "ham.\n",
      "joce.\n",
      "quinn.\n",
      "shoun.\n",
      "alian.\n",
      "quin.\n",
      "trugiearyni.\n",
      "jaxen.\n",
      "dustine.\n"
     ]
    }
   ],
   "source": [
    "g = torch.Generator().manual_seed(2147483647 + 10)\n",
    "\n",
    "for _ in range(20):\n",
    "    \n",
    "    out = []\n",
    "    context = [0] * block_size # initialize with all ...\n",
    "    while True:\n",
    "      emb = C[torch.tensor([context])] # (1,block_size,d)\n",
    "      h = torch.tanh(emb.view(1, -1) @ W1 + b1)\n",
    "      logits = h @ W2 + b2\n",
    "      probs = F.softmax(logits, dim=1)\n",
    "      ix = torch.multinomial(probs, num_samples=1, generator=g).item()\n",
    "      context = context[1:] + [ix]\n",
    "      out.append(ix)\n",
    "      if ix == 0:\n",
    "        break\n",
    "    \n",
    "    print(''.join(itos[i] for i in out))"
   ]
  },
  {
   "cell_type": "code",
   "execution_count": null,
   "id": "187618e3",
   "metadata": {},
   "outputs": [],
   "source": []
  }
 ],
 "metadata": {
  "kernelspec": {
   "display_name": "Python 3 (ipykernel)",
   "language": "python",
   "name": "python3"
  },
  "language_info": {
   "codemirror_mode": {
    "name": "ipython",
    "version": 3
   },
   "file_extension": ".py",
   "mimetype": "text/x-python",
   "name": "python",
   "nbconvert_exporter": "python",
   "pygments_lexer": "ipython3",
   "version": "3.9.12"
  }
 },
 "nbformat": 4,
 "nbformat_minor": 5
}
