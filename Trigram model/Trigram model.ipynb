{
 "cells": [
  {
   "cell_type": "markdown",
   "id": "6a1e6946",
   "metadata": {},
   "source": [
    "### Opening The File"
   ]
  },
  {
   "cell_type": "code",
   "execution_count": 1,
   "id": "20680d16",
   "metadata": {},
   "outputs": [],
   "source": [
    "words = open('names.txt','r').read().splitlines()"
   ]
  },
  {
   "cell_type": "code",
   "execution_count": 164,
   "id": "07eb8825",
   "metadata": {},
   "outputs": [
    {
     "data": {
      "text/plain": [
       "['emma', 'olivia', 'ava', 'isabella', 'sophia']"
      ]
     },
     "execution_count": 164,
     "metadata": {},
     "output_type": "execute_result"
    }
   ],
   "source": [
    "words[:5]"
   ]
  },
  {
   "cell_type": "markdown",
   "id": "6515dc53",
   "metadata": {},
   "source": [
    "### String To Integer "
   ]
  },
  {
   "cell_type": "code",
   "execution_count": 3,
   "id": "633b162e",
   "metadata": {
    "scrolled": true
   },
   "outputs": [],
   "source": [
    "chars = sorted(list(set(''.join(words))))\n",
    "stoi = {s:i+1 for i,s in enumerate(chars)}\n",
    "stoi['.']=0\n",
    "itos = {i:s for s,i in stoi.items() }\n"
   ]
  },
  {
   "cell_type": "markdown",
   "id": "0f070e8f",
   "metadata": {},
   "source": [
    "### Analysing the trigrams"
   ]
  },
  {
   "cell_type": "code",
   "execution_count": 165,
   "id": "61f2c4e4",
   "metadata": {},
   "outputs": [
    {
     "data": {
      "text/plain": [
       "[(('.', '.', 'a'), 4410),\n",
       " (('.', '.', 'k'), 2963),\n",
       " (('.', '.', 'm'), 2538),\n",
       " (('.', '.', 'j'), 2422),\n",
       " (('.', '.', 's'), 2055)]"
      ]
     },
     "execution_count": 165,
     "metadata": {},
     "output_type": "execute_result"
    }
   ],
   "source": [
    "b = {}\n",
    "for w in words:\n",
    "    chs = ['.']+['.']+  list(w) + ['.']\n",
    "    for ch1,ch2,ch3 in zip(chs,chs[1:],chs[2:]):#zip function combines 2 or more iterables into a single iterable \n",
    "        trigram = (ch1,ch2,ch3)\n",
    "        b[trigram] = b.get(trigram,0)+1 #its a dictionary... b.get if trigram is there in dictionary it will incrrement by 1 else  initialised by 0\n",
    "sorted(b.items(),key = lambda kv : -kv[1])[:5]"
   ]
  },
  {
   "cell_type": "markdown",
   "id": "eb8d9512",
   "metadata": {},
   "source": [
    "## Creating a training set"
   ]
  },
  {
   "cell_type": "code",
   "execution_count": 9,
   "id": "6bae9bdd",
   "metadata": {},
   "outputs": [],
   "source": [
    "import torch\n",
    "import torch.nn.functional as F"
   ]
  },
  {
   "cell_type": "code",
   "execution_count": 173,
   "id": "62711c55",
   "metadata": {},
   "outputs": [
    {
     "name": "stdout",
     "output_type": "stream",
     "text": [
      "torch.Size([392226])\n",
      "torch.Size([196113])\n",
      "number of examples:  196113\n"
     ]
    }
   ],
   "source": [
    "xs = []\n",
    "ys = []\n",
    "for w in words:\n",
    "    chs = ['.'] + list(w) + ['.']\n",
    "    for ch1,ch2,ch3 in zip(chs,chs[1:],chs[2:]): \n",
    "        ix1 = stoi[ch1]\n",
    "        ix2 = stoi[ch2]\n",
    "        ix3 = stoi[ch3]\n",
    "#         print(f'{ch1}{ch2}{ch3}')\n",
    "        xs.append(ix1)\n",
    "        xs.append(ix2)\n",
    "        ys.append(ix3)\n",
    "xs = torch.tensor(xs) # .tensor int64, Tensor float32, here we want counts so integers\n",
    "ys = torch.tensor(ys)\n",
    "print(xs.shape) # torch.Size([456292])\n",
    "print(ys.shape) # torch.Size([228146])\n",
    "num = ys.nelement()\n",
    "\n",
    "print('number of examples: ', num)\n",
    "\n",
    "g = torch.Generator().manual_seed(2147483647)\n",
    "W1 = torch.randn((27*2,27),requires_grad = True)\n"
   ]
  },
  {
   "cell_type": "markdown",
   "id": "dffeba06",
   "metadata": {},
   "source": [
    "### Gradient Descent"
   ]
  },
  {
   "cell_type": "code",
   "execution_count": 174,
   "id": "c58a1a85",
   "metadata": {
    "scrolled": true
   },
   "outputs": [
    {
     "name": "stdout",
     "output_type": "stream",
     "text": [
      "EPOCH = 97, Loss = 2.2747\n",
      "EPOCH = 98, Loss = 2.2744\n",
      "EPOCH = 99, Loss = 2.2741\n",
      "EPOCH = 100, Loss = 2.2738\n"
     ]
    }
   ],
   "source": [
    "for k in range(100):\n",
    "  \n",
    "  # forward pass\n",
    "    xenc = F.one_hot(xs, num_classes=27).float() # input to the network: one-hot encoding\n",
    "    #below 2 lines are converting shape of xenc from torch.Size([456292,27]) to [228146,54]\n",
    "    xenc = torch.cat([xenc[i:i+2] for i in range(0, xenc.shape[0], 2)], dim=0)\n",
    "    xenc = xenc.view(num, -1) \n",
    "    logits = xenc @ W1 # predict log-counts\n",
    "    \n",
    "    counts = logits.exp() # counts, equivalent to N\n",
    "    probs = counts / counts.sum(1, keepdims=True) # probabilities for next character\n",
    "    loss = -probs[torch.arange(num), ys].log().mean()+ 0.01*(W1**2).mean()\n",
    "    if(k>95):\n",
    "        print(F'EPOCH = {k+1}, Loss = {loss.item():.4f}')\n",
    "  # backward pass\n",
    "    W1.grad = None # set to zero the gradient\n",
    "    loss.backward()\n",
    "  \n",
    "  # update\n",
    "    W1.data += -50 * W1.grad "
   ]
  },
  {
   "cell_type": "markdown",
   "id": "80c26a83",
   "metadata": {},
   "source": [
    "### PREDICTIONS "
   ]
  },
  {
   "cell_type": "code",
   "execution_count": 195,
   "id": "d86c6a2b",
   "metadata": {},
   "outputs": [
    {
     "name": "stdout",
     "output_type": "stream",
     "text": [
      "ori\n",
      "avo\n",
      "avob\n",
      "avobo\n",
      "avobor\n",
      "avobori\n",
      "ril\n",
      "rily\n",
      "rilyf\n",
      "rilyfn\n",
      "rilyfnz\n",
      "rem\n",
      "rema\n",
      "remal\n",
      "remala\n",
      "remalae\n"
     ]
    }
   ],
   "source": [
    "g = torch.Generator().manual_seed(2147483647)\n",
    "import random\n",
    "for i in range(5):\n",
    "  \n",
    "    out = []\n",
    "    a = random.randint(1,27)\n",
    "    ix = [0,a]\n",
    "    ix = torch.tensor(ix)\n",
    "    while True:\n",
    "        xenc = F.one_hot(ix, num_classes=27).float()\n",
    "        xenc = torch.cat([xenc[i:i+2] for i in range(0, xenc.shape[0], 2)], dim=0)    # reshape the resulting 2D array\n",
    "        xenc = xenc.view(1, -1)\n",
    "        logits = xenc @ W1 # predict log-counts\n",
    "        counts = logits.exp() # counts, equivalent to N\n",
    "        p = counts / counts.sum(1, keepdims=True) # probabilities for next character\n",
    "        d= torch.multinomial(p, num_samples=1, replacement=True, generator=g).flatten()\n",
    "        out.append(itos[d.item()])\n",
    "        if d.item() == 0:\n",
    "            break\n",
    "        ix = torch.cat((ix,d))\n",
    "        ix = ix[1:]\n",
    "        if( (len(''.join(out))<3) or len(''.join(out))>7):\n",
    "            continue\n",
    "        else:\n",
    "            print(''.join(out))"
   ]
  },
  {
   "cell_type": "code",
   "execution_count": 84,
   "id": "f6294a48",
   "metadata": {},
   "outputs": [
    {
     "data": {
      "text/plain": [
       "tensor([0.2957, 0.1791, 0.5252])"
      ]
     },
     "execution_count": 84,
     "metadata": {},
     "output_type": "execute_result"
    }
   ],
   "source": [
    "p = torch.rand(3,generator=g)# random numbers between 0and 1\n",
    "p = p/p.sum()\n",
    "p"
   ]
  },
  {
   "cell_type": "code",
   "execution_count": 90,
   "id": "4bbe4684",
   "metadata": {},
   "outputs": [
    {
     "data": {
      "text/plain": [
       "tensor([2, 0, 1, 0, 0, 2, 2, 2, 2, 2])"
      ]
     },
     "execution_count": 90,
     "metadata": {},
     "output_type": "execute_result"
    }
   ],
   "source": [
    "torch.multinomial(p,num_samples = 10,replacement=True,generator=g) \n"
   ]
  }
 ],
 "metadata": {
  "kernelspec": {
   "display_name": "Python 3 (ipykernel)",
   "language": "python",
   "name": "python3"
  },
  "language_info": {
   "codemirror_mode": {
    "name": "ipython",
    "version": 3
   },
   "file_extension": ".py",
   "mimetype": "text/x-python",
   "name": "python",
   "nbconvert_exporter": "python",
   "pygments_lexer": "ipython3",
   "version": "3.9.12"
  }
 },
 "nbformat": 4,
 "nbformat_minor": 5
}
